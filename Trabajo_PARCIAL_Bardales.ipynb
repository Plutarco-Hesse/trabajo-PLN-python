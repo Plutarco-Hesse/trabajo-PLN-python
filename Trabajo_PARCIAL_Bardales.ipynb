{
  "nbformat": 4,
  "nbformat_minor": 0,
  "metadata": {
    "colab": {
      "provenance": [],
      "authorship_tag": "ABX9TyOvNswRNhjQG8wQwP3tLczV",
      "include_colab_link": true
    },
    "kernelspec": {
      "name": "python3",
      "display_name": "Python 3"
    },
    "language_info": {
      "name": "python"
    }
  },
  "cells": [
    {
      "cell_type": "markdown",
      "metadata": {
        "id": "view-in-github",
        "colab_type": "text"
      },
      "source": [
        "<a href=\"https://colab.research.google.com/github/Plutarco-Hesse/trabajo-PLN-python/blob/main/Trabajo_PARCIAL_Bardales.ipynb\" target=\"_parent\"><img src=\"https://colab.research.google.com/assets/colab-badge.svg\" alt=\"Open In Colab\"/></a>"
      ]
    },
    {
      "cell_type": "code",
      "execution_count": null,
      "metadata": {
        "id": "m9xD8-6X5IeJ"
      },
      "outputs": [],
      "source": []
    },
    {
      "cell_type": "markdown",
      "source": [
        "#**Evaluación trabajo parcial**\n",
        "\n",
        "---\n"
      ],
      "metadata": {
        "id": "-DIT3_gOwc20"
      }
    },
    {
      "cell_type": "markdown",
      "source": [
        "##Título:\n"
      ],
      "metadata": {
        "id": "jk5DL96s5SJa"
      }
    },
    {
      "cell_type": "markdown",
      "source": [
        "##Tema y pregunta: \n",
        "\n",
        "- La idea es que en uno o dos párrafos expliquen el tema que quieren trabajar o la pregunta que guía su trabajo. Tiene que estar claro el objetivo del estudio. \n"
      ],
      "metadata": {
        "id": "JUSc5dThxPdf"
      }
    },
    {
      "cell_type": "markdown",
      "source": [
        "##Justificación: \n",
        "\n",
        "- Uno o dos párrafos donde expliquen por qué la pregunta o el tema que quieren trabajar es relevante para la sociedad (relevancia social) y con que temas o literatura dialogaría (relevancia académica). No necesitan hacer una revisión de literatura sino pensar en términos generales con que autores o temas tu investigación puede contribuir. \n"
      ],
      "metadata": {
        "id": "GY91q9qMxSGn"
      }
    },
    {
      "cell_type": "markdown",
      "source": [
        "##Plan de análisis: \n",
        "\n",
        "- En esta sección, uno o dos párrafos son suficientes, tienen que contar con sus palabras que quieren hacer con el texto. Pueden ser bullet points!.  En base a lo que hemos conversado hasta ahora detallen que información quieren obtener del texto. "
      ],
      "metadata": {
        "id": "a9N4xgKfxUVt"
      }
    },
    {
      "cell_type": "markdown",
      "source": [
        "##Corpus:\n",
        "\n",
        "- Detallar de dónde han obtenido los documentos. y darnos detalles que documentos son. \n",
        "Además es importante que en el COLAB levanten su texto, y hagan el conteo de documentos.\n"
      ],
      "metadata": {
        "id": "dZA5msgMxWFl"
      }
    }
  ]
}